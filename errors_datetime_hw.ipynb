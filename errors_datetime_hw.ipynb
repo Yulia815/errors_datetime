{
 "cells": [
  {
   "cell_type": "markdown",
   "metadata": {},
   "source": [
    "Задание 1\n",
    "Напишите функцию date_range, которая возвращает список дней между датами start_date и end_date. Даты должны вводиться в формате YYYY-MM-DD.\n"
   ]
  },
  {
   "cell_type": "code",
   "execution_count": 24,
   "metadata": {},
   "outputs": [],
   "source": [
    "import datetime as dt"
   ]
  },
  {
   "cell_type": "code",
   "execution_count": 25,
   "metadata": {},
   "outputs": [],
   "source": [
    "from datetime import datetime"
   ]
  },
  {
   "cell_type": "code",
   "execution_count": 26,
   "metadata": {},
   "outputs": [
    {
     "name": "stdout",
     "output_type": "stream",
     "text": [
      "2018-11-11 00:00:00\n",
      "2018-11-12 00:00:00\n",
      "2018-11-13 00:00:00\n",
      "2018-11-14 00:00:00\n",
      "2018-11-15 00:00:00\n"
     ]
    }
   ],
   "source": [
    "def date_range (start_date , end_date):\n",
    "    d1= dt.datetime.strptime(start_date,'%Y-%m-%d')\n",
    "    d2 = dt.datetime.strptime(end_date, '%Y-%m-%d')\n",
    "    delta = d2 - d1        \n",
    "    for i in range(delta.days + 1):\n",
    "        print(d1 + dt.timedelta(i))\n",
    "date_range ('2018-11-11', '2018-11-15')"
   ]
  },
  {
   "cell_type": "markdown",
   "metadata": {},
   "source": [
    "Задание 2 Дополните функцию из первого задания проверкой на корректность дат. В случае неверного формата или если start_date > end_date должен возвращаться пустой список."
   ]
  },
  {
   "cell_type": "code",
   "execution_count": 27,
   "metadata": {},
   "outputs": [
    {
     "name": "stdout",
     "output_type": "stream",
     "text": [
      "2018-11-11 00:00:00\n",
      "2018-11-11 00:00:00\n",
      "2018-11-12 00:00:00\n",
      "2018-11-13 00:00:00\n",
      "2018-11-14 00:00:00\n",
      "2018-11-15 00:00:00\n",
      "2018-11-16 00:00:00\n",
      "2018-11-17 00:00:00\n",
      "2018-11-18 00:00:00\n"
     ]
    }
   ],
   "source": [
    "def date_range (start_date , end_date):\n",
    "    \n",
    "    try:\n",
    "        d1= dt.datetime.strptime(start_date,'%Y-%m-%d')\n",
    "        d2 = dt.datetime.strptime(end_date, '%Y-%m-%d')\n",
    "        delta = d2 - d1 \n",
    "        print(d1)\n",
    "        if delta.days<=0:\n",
    "            print ([])\n",
    "    \n",
    "        for i in range(delta.days + 1):\n",
    "            print(d1 + dt.timedelta(i))\n",
    "    except: \n",
    "        print ([])\n",
    "           \n",
    "date_range ('2018-11-11', '2018-11-18')\n"
   ]
  },
  {
   "cell_type": "markdown",
   "metadata": {},
   "source": [
    "Задание 3 Дан поток дат в формате YYYY-MM-DD, в которых встречаются некорректные значения: stream = ['2018-04-02', '2018-02-29', '2018-19-02']\n",
    "\n",
    "Напишите функцию, которая проверяет эти даты на корректность. Т. е. для каждой даты возвращает True (дата корректна) или False (некорректная дата)."
   ]
  },
  {
   "cell_type": "code",
   "execution_count": 35,
   "metadata": {},
   "outputs": [
    {
     "name": "stdout",
     "output_type": "stream",
     "text": [
      "True\n",
      "False\n",
      "False\n"
     ]
    }
   ],
   "source": [
    "def valid (stream):\n",
    "    \n",
    "    for i in stream:\n",
    "        try:\n",
    "            valid_date = dt.datetime.strptime(i, '%Y-%m-%d')\n",
    "            print (True)\n",
    "        except:\n",
    "            print(False)\n",
    "valid (['2018-04-02', '2018-02-29', '2018-19-02'])"
   ]
  },
  {
   "cell_type": "code",
   "execution_count": 45,
   "metadata": {},
   "outputs": [],
   "source": [
    "\n"
   ]
  },
  {
   "cell_type": "code",
   "execution_count": null,
   "metadata": {},
   "outputs": [],
   "source": []
  },
  {
   "cell_type": "code",
   "execution_count": null,
   "metadata": {},
   "outputs": [],
   "source": []
  }
 ],
 "metadata": {
  "kernelspec": {
   "display_name": "Python 3",
   "language": "python",
   "name": "python3"
  },
  "language_info": {
   "codemirror_mode": {
    "name": "ipython",
    "version": 3
   },
   "file_extension": ".py",
   "mimetype": "text/x-python",
   "name": "python",
   "nbconvert_exporter": "python",
   "pygments_lexer": "ipython3",
   "version": "3.7.4"
  }
 },
 "nbformat": 4,
 "nbformat_minor": 2
}
